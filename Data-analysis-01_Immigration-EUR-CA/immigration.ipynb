{
 "cells": [
  {
   "cell_type": "markdown",
   "metadata": {},
   "source": [
    "Immigration to Canada from Eastern Europe during 1980 - 2013"
   ]
  },
  {
   "cell_type": "code",
   "execution_count": 133,
   "metadata": {},
   "outputs": [],
   "source": [
    "import pandas as pd\n",
    "import matplotlib as mpl\n",
    "import matplotlib.pyplot as plt\n",
    "mpl.style.use(['ggplot'])\n",
    "#also needed: openpyxl (install by pip)"
   ]
  },
  {
   "cell_type": "markdown",
   "metadata": {},
   "source": [
    "Load the dataset and check it"
   ]
  },
  {
   "cell_type": "code",
   "execution_count": 134,
   "metadata": {},
   "outputs": [],
   "source": [
    "dataset = pd.read_excel('Canada.xlsx', sheet_name='Canada by Citizenship', skiprows=20, skipfooter=2)"
   ]
  },
  {
   "cell_type": "code",
   "execution_count": 135,
   "metadata": {},
   "outputs": [
    {
     "data": {
      "text/html": [
       "<div>\n",
       "<style scoped>\n",
       "    .dataframe tbody tr th:only-of-type {\n",
       "        vertical-align: middle;\n",
       "    }\n",
       "\n",
       "    .dataframe tbody tr th {\n",
       "        vertical-align: top;\n",
       "    }\n",
       "\n",
       "    .dataframe thead th {\n",
       "        text-align: right;\n",
       "    }\n",
       "</style>\n",
       "<table border=\"1\" class=\"dataframe\">\n",
       "  <thead>\n",
       "    <tr style=\"text-align: right;\">\n",
       "      <th></th>\n",
       "      <th>Type</th>\n",
       "      <th>Coverage</th>\n",
       "      <th>OdName</th>\n",
       "      <th>AREA</th>\n",
       "      <th>AreaName</th>\n",
       "      <th>REG</th>\n",
       "      <th>RegName</th>\n",
       "      <th>DEV</th>\n",
       "      <th>DevName</th>\n",
       "      <th>1980</th>\n",
       "      <th>...</th>\n",
       "      <th>2004</th>\n",
       "      <th>2005</th>\n",
       "      <th>2006</th>\n",
       "      <th>2007</th>\n",
       "      <th>2008</th>\n",
       "      <th>2009</th>\n",
       "      <th>2010</th>\n",
       "      <th>2011</th>\n",
       "      <th>2012</th>\n",
       "      <th>2013</th>\n",
       "    </tr>\n",
       "  </thead>\n",
       "  <tbody>\n",
       "    <tr>\n",
       "      <th>0</th>\n",
       "      <td>Immigrants</td>\n",
       "      <td>Foreigners</td>\n",
       "      <td>Afghanistan</td>\n",
       "      <td>935</td>\n",
       "      <td>Asia</td>\n",
       "      <td>5501</td>\n",
       "      <td>Southern Asia</td>\n",
       "      <td>902</td>\n",
       "      <td>Developing regions</td>\n",
       "      <td>16</td>\n",
       "      <td>...</td>\n",
       "      <td>2978</td>\n",
       "      <td>3436</td>\n",
       "      <td>3009</td>\n",
       "      <td>2652</td>\n",
       "      <td>2111</td>\n",
       "      <td>1746</td>\n",
       "      <td>1758</td>\n",
       "      <td>2203</td>\n",
       "      <td>2635</td>\n",
       "      <td>2004</td>\n",
       "    </tr>\n",
       "    <tr>\n",
       "      <th>1</th>\n",
       "      <td>Immigrants</td>\n",
       "      <td>Foreigners</td>\n",
       "      <td>Albania</td>\n",
       "      <td>908</td>\n",
       "      <td>Europe</td>\n",
       "      <td>925</td>\n",
       "      <td>Southern Europe</td>\n",
       "      <td>901</td>\n",
       "      <td>Developed regions</td>\n",
       "      <td>1</td>\n",
       "      <td>...</td>\n",
       "      <td>1450</td>\n",
       "      <td>1223</td>\n",
       "      <td>856</td>\n",
       "      <td>702</td>\n",
       "      <td>560</td>\n",
       "      <td>716</td>\n",
       "      <td>561</td>\n",
       "      <td>539</td>\n",
       "      <td>620</td>\n",
       "      <td>603</td>\n",
       "    </tr>\n",
       "    <tr>\n",
       "      <th>2</th>\n",
       "      <td>Immigrants</td>\n",
       "      <td>Foreigners</td>\n",
       "      <td>Algeria</td>\n",
       "      <td>903</td>\n",
       "      <td>Africa</td>\n",
       "      <td>912</td>\n",
       "      <td>Northern Africa</td>\n",
       "      <td>902</td>\n",
       "      <td>Developing regions</td>\n",
       "      <td>80</td>\n",
       "      <td>...</td>\n",
       "      <td>3616</td>\n",
       "      <td>3626</td>\n",
       "      <td>4807</td>\n",
       "      <td>3623</td>\n",
       "      <td>4005</td>\n",
       "      <td>5393</td>\n",
       "      <td>4752</td>\n",
       "      <td>4325</td>\n",
       "      <td>3774</td>\n",
       "      <td>4331</td>\n",
       "    </tr>\n",
       "    <tr>\n",
       "      <th>3</th>\n",
       "      <td>Immigrants</td>\n",
       "      <td>Foreigners</td>\n",
       "      <td>American Samoa</td>\n",
       "      <td>909</td>\n",
       "      <td>Oceania</td>\n",
       "      <td>957</td>\n",
       "      <td>Polynesia</td>\n",
       "      <td>902</td>\n",
       "      <td>Developing regions</td>\n",
       "      <td>0</td>\n",
       "      <td>...</td>\n",
       "      <td>0</td>\n",
       "      <td>0</td>\n",
       "      <td>1</td>\n",
       "      <td>0</td>\n",
       "      <td>0</td>\n",
       "      <td>0</td>\n",
       "      <td>0</td>\n",
       "      <td>0</td>\n",
       "      <td>0</td>\n",
       "      <td>0</td>\n",
       "    </tr>\n",
       "    <tr>\n",
       "      <th>4</th>\n",
       "      <td>Immigrants</td>\n",
       "      <td>Foreigners</td>\n",
       "      <td>Andorra</td>\n",
       "      <td>908</td>\n",
       "      <td>Europe</td>\n",
       "      <td>925</td>\n",
       "      <td>Southern Europe</td>\n",
       "      <td>901</td>\n",
       "      <td>Developed regions</td>\n",
       "      <td>0</td>\n",
       "      <td>...</td>\n",
       "      <td>0</td>\n",
       "      <td>0</td>\n",
       "      <td>1</td>\n",
       "      <td>1</td>\n",
       "      <td>0</td>\n",
       "      <td>0</td>\n",
       "      <td>0</td>\n",
       "      <td>0</td>\n",
       "      <td>1</td>\n",
       "      <td>1</td>\n",
       "    </tr>\n",
       "  </tbody>\n",
       "</table>\n",
       "<p>5 rows × 43 columns</p>\n",
       "</div>"
      ],
      "text/plain": [
       "         Type    Coverage          OdName  AREA AreaName   REG  \\\n",
       "0  Immigrants  Foreigners     Afghanistan   935     Asia  5501   \n",
       "1  Immigrants  Foreigners         Albania   908   Europe   925   \n",
       "2  Immigrants  Foreigners         Algeria   903   Africa   912   \n",
       "3  Immigrants  Foreigners  American Samoa   909  Oceania   957   \n",
       "4  Immigrants  Foreigners         Andorra   908   Europe   925   \n",
       "\n",
       "           RegName  DEV             DevName  1980  ...  2004  2005  2006  \\\n",
       "0    Southern Asia  902  Developing regions    16  ...  2978  3436  3009   \n",
       "1  Southern Europe  901   Developed regions     1  ...  1450  1223   856   \n",
       "2  Northern Africa  902  Developing regions    80  ...  3616  3626  4807   \n",
       "3        Polynesia  902  Developing regions     0  ...     0     0     1   \n",
       "4  Southern Europe  901   Developed regions     0  ...     0     0     1   \n",
       "\n",
       "   2007  2008  2009  2010  2011  2012  2013  \n",
       "0  2652  2111  1746  1758  2203  2635  2004  \n",
       "1   702   560   716   561   539   620   603  \n",
       "2  3623  4005  5393  4752  4325  3774  4331  \n",
       "3     0     0     0     0     0     0     0  \n",
       "4     1     0     0     0     0     1     1  \n",
       "\n",
       "[5 rows x 43 columns]"
      ]
     },
     "execution_count": 135,
     "metadata": {},
     "output_type": "execute_result"
    }
   ],
   "source": [
    "dataset.head(5)"
   ]
  },
  {
   "cell_type": "code",
   "execution_count": 136,
   "metadata": {},
   "outputs": [
    {
     "name": "stdout",
     "output_type": "stream",
     "text": [
      "<class 'pandas.core.frame.DataFrame'>\n",
      "RangeIndex: 195 entries, 0 to 194\n",
      "Data columns (total 43 columns):\n",
      " #   Column    Non-Null Count  Dtype \n",
      "---  ------    --------------  ----- \n",
      " 0   Type      195 non-null    object\n",
      " 1   Coverage  195 non-null    object\n",
      " 2   OdName    195 non-null    object\n",
      " 3   AREA      195 non-null    int64 \n",
      " 4   AreaName  195 non-null    object\n",
      " 5   REG       195 non-null    int64 \n",
      " 6   RegName   195 non-null    object\n",
      " 7   DEV       195 non-null    int64 \n",
      " 8   DevName   195 non-null    object\n",
      " 9   1980      195 non-null    int64 \n",
      " 10  1981      195 non-null    int64 \n",
      " 11  1982      195 non-null    int64 \n",
      " 12  1983      195 non-null    int64 \n",
      " 13  1984      195 non-null    int64 \n",
      " 14  1985      195 non-null    int64 \n",
      " 15  1986      195 non-null    int64 \n",
      " 16  1987      195 non-null    int64 \n",
      " 17  1988      195 non-null    int64 \n",
      " 18  1989      195 non-null    int64 \n",
      " 19  1990      195 non-null    int64 \n",
      " 20  1991      195 non-null    int64 \n",
      " 21  1992      195 non-null    int64 \n",
      " 22  1993      195 non-null    int64 \n",
      " 23  1994      195 non-null    int64 \n",
      " 24  1995      195 non-null    int64 \n",
      " 25  1996      195 non-null    int64 \n",
      " 26  1997      195 non-null    int64 \n",
      " 27  1998      195 non-null    int64 \n",
      " 28  1999      195 non-null    int64 \n",
      " 29  2000      195 non-null    int64 \n",
      " 30  2001      195 non-null    int64 \n",
      " 31  2002      195 non-null    int64 \n",
      " 32  2003      195 non-null    int64 \n",
      " 33  2004      195 non-null    int64 \n",
      " 34  2005      195 non-null    int64 \n",
      " 35  2006      195 non-null    int64 \n",
      " 36  2007      195 non-null    int64 \n",
      " 37  2008      195 non-null    int64 \n",
      " 38  2009      195 non-null    int64 \n",
      " 39  2010      195 non-null    int64 \n",
      " 40  2011      195 non-null    int64 \n",
      " 41  2012      195 non-null    int64 \n",
      " 42  2013      195 non-null    int64 \n",
      "dtypes: int64(37), object(6)\n",
      "memory usage: 65.6+ KB\n"
     ]
    }
   ],
   "source": [
    "dataset.info()"
   ]
  },
  {
   "cell_type": "markdown",
   "metadata": {},
   "source": [
    "Modify the dataset"
   ]
  },
  {
   "cell_type": "code",
   "execution_count": 137,
   "metadata": {},
   "outputs": [
    {
     "name": "stderr",
     "output_type": "stream",
     "text": [
      "C:\\Users\\krzys\\AppData\\Local\\Temp\\ipykernel_5900\\2261679357.py:7: FutureWarning: Dropping of nuisance columns in DataFrame reductions (with 'numeric_only=None') is deprecated; in a future version this will raise TypeError.  Select only valid columns before calling the reduction.\n",
      "  dataset['Total'] = dataset.sum(axis=1)\n"
     ]
    }
   ],
   "source": [
    "dataset.drop(['Type','Coverage','AREA','REG','DEV','DevName'], axis=1, inplace=True)\n",
    "dataset.rename(columns={'OdName':'Country','AreaName':'Continent', 'RegName':'Region'}, inplace=True)\n",
    "\n",
    "dataset.set_index('Country', inplace=True)\n",
    "dataset.index.name = None\n",
    "\n",
    "dataset['Total'] = dataset.sum(axis=1)\n",
    "dataset.sort_values(by='Total', ascending=False, axis=0, inplace=True)  #sort by Total\n",
    "\n",
    "dataset.columns = list(map(str, dataset.columns))"
   ]
  },
  {
   "cell_type": "markdown",
   "metadata": {},
   "source": [
    "Analysis"
   ]
  },
  {
   "cell_type": "code",
   "execution_count": 154,
   "metadata": {},
   "outputs": [],
   "source": [
    "years = list(map(str, range(1980, 2014)))\n",
    "\n",
    "condition = (dataset['Continent'] == 'Europe') & (dataset['Region'] == 'Eastern Europe')\n",
    "\n",
    "datasetEE = dataset[condition]  #Eastern Europe only"
   ]
  },
  {
   "cell_type": "markdown",
   "metadata": {},
   "source": [
    "(1) Top 5"
   ]
  },
  {
   "cell_type": "code",
   "execution_count": 169,
   "metadata": {},
   "outputs": [
    {
     "data": {
      "text/plain": [
       "Text(0.5, 0, 'Years')"
      ]
     },
     "execution_count": 169,
     "metadata": {},
     "output_type": "execute_result"
    },
    {
     "data": {
      "image/png": "[encoded data removed]",
      "text/plain": [
       "<Figure size 432x288 with 1 Axes>"
      ]
     },
     "metadata": {},
     "output_type": "display_data"
    }
   ],
   "source": [
    "top5 = datasetEE[years].head()  #5 is a default value for head()\n",
    "top5 = top5.transpose()\n",
    "\n",
    "top5.plot(kind='line')\n",
    "\n",
    "plt.title('Immigration from Eastern Europe')\n",
    "plt.ylabel('Number of Immigrants')\n",
    "plt.xlabel('Years')"
   ]
  },
  {
   "cell_type": "markdown",
   "metadata": {},
   "source": [
    "(2) Poland"
   ]
  },
  {
   "cell_type": "code",
   "execution_count": 182,
   "metadata": {},
   "outputs": [
    {
     "data": {
      "image/png": "[encoded data removed]",
      "text/plain": [
       "<Figure size 432x288 with 1 Axes>"
      ]
     },
     "metadata": {},
     "output_type": "display_data"
    }
   ],
   "source": [
    "poland = datasetEE.loc['Poland', years]\n",
    "poland.plot(kind='line')\n",
    "\n",
    "plt.title('Immigration from Poland')\n",
    "plt.ylabel('Number of immigrants')\n",
    "plt.xlabel('Year')\n",
    "\n",
    "plt.text(12, 16000, 'The great influx') \n",
    "plt.show()"
   ]
  },
  {
   "cell_type": "markdown",
   "metadata": {},
   "source": [
    "'In the 1980s and 1990s, Canada accepted more than 115,000 Polish immigrants. Some of them went through refugee camps in Western Europe, some arrived in Canada from the U.S., and there were also those who came directly from Poland. This great influx of Poles to Canada was caused by a confluence of factors. The most vital was obviously the economic and political situation in Poland, but Canada’s immigration policy also played a significant role, particularly the new regulations enacted in 1978. They gave temporary preferences for East-European Self-Exiled Persons – those who left the Communist bloc and could not or did not want to return to their home countries. It is worth emphasizing that the Self-Exiled class formally existed in Canada until as late as 1990. Moreover, the new Canadian regulations enabled admitting immigrants who were sponsored by Canadian residents. This allowed the Canadian Polish Congress (CPC), following the 1981 agreement with the Minister of Employment and Immigration, to act as a guarantor to persons and institutions bringing in immigrants. With the cooperation of the CPC, ethnic organizations, and Roman Catholic Church institutions, a network of Polish information and aid centers was established in Canada. They were actively supporting the Canadian system of assistance for new immigrants, helping the newly arrived to adapt to life in a new country.'\n",
    "\n",
    "Source: https://www.ejournals.eu/Studia-Migracyjne/2018/170(4)/art/13406/ as at 20/07/2022"
   ]
  }
 ],
 "metadata": {
  "kernelspec": {
   "display_name": "Python 3.10.5 ('venv': venv)",
   "language": "python",
   "name": "python3"
  },
  "language_info": {
   "codemirror_mode": {
    "name": "ipython",
    "version": 3
   },
   "file_extension": ".py",
   "mimetype": "text/x-python",
   "name": "python",
   "nbconvert_exporter": "python",
   "pygments_lexer": "ipython3",
   "version": "3.10.5"
  },
  "orig_nbformat": 4,
  "vscode": {
   "interpreter": {
    "hash": "7d0d66730814e4b3c4aeb3915d29bd40f3445bac36951ee62fcf1c9c0b0e4156"
   }
  }
 },
 "nbformat": 4,
 "nbformat_minor": 2
}
